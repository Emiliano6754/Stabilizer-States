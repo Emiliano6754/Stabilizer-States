{
 "cells": [
  {
   "cell_type": "code",
   "execution_count": 1,
   "metadata": {},
   "outputs": [],
   "source": [
    "%matplotlib ipympl\n",
    "import numpy as np\n",
    "from matplotlib import pyplot as plt\n",
    "from matplotlib.colors import LightSource"
   ]
  },
  {
   "cell_type": "code",
   "execution_count": 2,
   "metadata": {},
   "outputs": [],
   "source": [
    "from matplotlib import rc\n",
    "rc('font',**{'family':'serif','serif':['Times']})\n",
    "rc('text', usetex=True)"
   ]
  },
  {
   "cell_type": "code",
   "execution_count": 3,
   "metadata": {},
   "outputs": [],
   "source": [
    "n_qubits = 10\n",
    "graph_type = \"cc\"\n",
    "qubitstate_size = 2**n_qubits\n",
    "# filename = graph_type + \"_q\" + str(n_qubits) + \".txt\"\n",
    "filename = \"test.txt\"\n",
    "Qfunc = np.genfromtxt(\"C:/dev/StabilizerStates/data/Qfuncs/\"+filename, usecols = 0, delimiter=\",\", dtype = float)\n",
    "Qfunc = np.reshape(Qfunc,(qubitstate_size,qubitstate_size))\n",
    "\n",
    "_x = np.arange(qubitstate_size)\n",
    "_y = np.arange(qubitstate_size)\n",
    "_xx, _yy = np.meshgrid(_x, _y)\n",
    "x, y = _xx.ravel(), _yy.ravel()\n",
    "width = depth = 1"
   ]
  },
  {
   "cell_type": "code",
   "execution_count": null,
   "metadata": {},
   "outputs": [],
   "source": [
    "light = LightSource(0,20)\n",
    "fig = plt.figure(figsize=(4,3),dpi=300)\n",
    "ax = fig.add_subplot(projection='3d')\n",
    "ax.view_init(elev=25,azim=50)\n",
    "ax.bar3d(x,y,0,width,depth,Qfunc.flatten(),lightsource=light)\n",
    "ax.set_xlabel(r'$\\beta$')\n",
    "ax.set_ylabel(r'$\\alpha$')"
   ]
  },
  {
   "cell_type": "code",
   "execution_count": null,
   "metadata": {},
   "outputs": [],
   "source": [
    "print(Qfunc)"
   ]
  },
  {
   "cell_type": "code",
   "execution_count": null,
   "metadata": {},
   "outputs": [],
   "source": []
  }
 ],
 "metadata": {
  "kernelspec": {
   "display_name": "Python 3",
   "language": "python",
   "name": "python3"
  },
  "language_info": {
   "codemirror_mode": {
    "name": "ipython",
    "version": 3
   },
   "file_extension": ".py",
   "mimetype": "text/x-python",
   "name": "python",
   "nbconvert_exporter": "python",
   "pygments_lexer": "ipython3",
   "version": "3.12.0"
  }
 },
 "nbformat": 4,
 "nbformat_minor": 2
}
